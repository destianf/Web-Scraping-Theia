{
 "cells": [
  {
   "cell_type": "markdown",
   "metadata": {},
   "source": [
    "# Capstone Webscrapping using BeautifulSoup\n",
    "\n",
    "   saya memutuskan untuk mengambil capstone project web scraping sebagai project pertama saya. goals nya adalah untuk mengimplementasikan web scraping, menganalisis data dan mengambil kesimpulan dari hasil analisa data tersebut. Untuk topik yang saya ambil adalah film terpopuler dari situs IMDB dalam rentan waktu satu tahun dimulai dari Januari 2021 sampai dengan Desember 2021\n",
    "\n",
    "\n",
    "## Requesting the Data and Creating a BeautifulSoup\n",
    "\n",
    "Let's begin with requesting the web from the site with `get` method."
   ]
  },
  {
   "cell_type": "code",
   "execution_count": 500,
   "metadata": {
    "ExecuteTime": {
     "end_time": "2020-01-13T05:12:23.275508Z",
     "start_time": "2020-01-13T05:12:20.009898Z"
    }
   },
   "outputs": [],
   "source": [
    "import requests\n",
    "from flask import Flask, render_template\n",
    "import pandas as pd\n",
    "import matplotlib\n",
    "import matplotlib.pyplot as plt\n",
    "from io import BytesIO\n",
    "import base64\n",
    "from bs4 import BeautifulSoup \n",
    "import requests"
   ]
  },
  {
   "cell_type": "code",
   "execution_count": 501,
   "metadata": {},
   "outputs": [],
   "source": [
    "url_get = requests.get('https://www.imdb.com/search/title/?release_date=2021-01-01,2021-12-31')"
   ]
  },
  {
   "cell_type": "markdown",
   "metadata": {},
   "source": [
    "To visualize what exactly you get from the `request.get`, we can use .content so ee what we exactly get, in here i slice it so it won't make our screen full of the html we get from the page. You can delete the slicing if you want to see what we fully get."
   ]
  },
  {
   "cell_type": "code",
   "execution_count": 502,
   "metadata": {
    "ExecuteTime": {
     "end_time": "2020-01-13T05:12:23.290648Z",
     "start_time": "2020-01-13T05:12:23.277650Z"
    }
   },
   "outputs": [
    {
     "data": {
      "text/plain": [
       "b'\\n<!DOCTYPE html>\\n<html\\n    xmlns:og=\"http://ogp.me/ns#\"\\n    xmlns:fb=\"http://www.facebook.com/2008/fbml\">\\n    <head>\\n         \\n\\n        <meta charset=\"utf-8\">\\n\\n\\n\\n\\n        <script type=\"text/javascript\">var IMDbTimer={starttime: new Date().getTime(),pt:\\'java\\'};</script>\\n\\n<script>\\n    if (typeof uet == \\'function\\') {\\n      uet(\"bb\", \"LoadTitle\", {wb: 1});\\n    }\\n</script>\\n  <script>(function(t){ (t.events = t.events || {})[\"csm_head_pre_title\"] = new Date().getTime(); })(IMDbTimer);</script>\\n      '"
      ]
     },
     "execution_count": 502,
     "metadata": {},
     "output_type": "execute_result"
    }
   ],
   "source": [
    "url_get.content[1:500]"
   ]
  },
  {
   "cell_type": "markdown",
   "metadata": {},
   "source": [
    "As we can see we get a very unstructured and complex html, which actually contains the codes needed to show the webpages on your web browser. But we as human still confused what and where we can use that piece of code, so here where we use the beautifulsoup. Beautiful soup class will result a beautifulsoup object. Beautiful Soup transforms a complex HTML document into a complex tree of Python objects. \n",
    "\n",
    "Let's make Beautiful soup object and feel free to explore the object here."
   ]
  },
  {
   "cell_type": "code",
   "execution_count": 503,
   "metadata": {
    "ExecuteTime": {
     "end_time": "2020-01-13T05:12:23.808122Z",
     "start_time": "2020-01-13T05:12:23.292610Z"
    },
    "scrolled": true
   },
   "outputs": [
    {
     "name": "stdout",
     "output_type": "stream",
     "text": [
      "<class 'bs4.BeautifulSoup'>\n"
     ]
    }
   ],
   "source": [
    "from bs4 import BeautifulSoup \n",
    "\n",
    "soup = BeautifulSoup(url_get.content,\"html.parser\")\n",
    "print(type(soup))"
   ]
  },
  {
   "cell_type": "code",
   "execution_count": 504,
   "metadata": {},
   "outputs": [
    {
     "name": "stdout",
     "output_type": "stream",
     "text": [
      "<!DOCTYPE html>\n",
      "<html xmlns:fb=\"http://www.facebook.com/2008/fbml\" xmlns:og=\"http://ogp.me/ns#\">\n",
      " <head>\n",
      "  <meta charset=\"utf-8\"/>\n",
      "  <script type=\"text/javascript\">\n",
      "   var IMDbTimer={starttime: new Date().getTime(),pt:'java'};\n",
      "  </script>\n",
      "  <script>\n",
      "   if (typeof uet == 'function') {\n",
      "      uet(\"bb\", \"LoadTitle\", {wb: 1});\n",
      "    }\n",
      "  </script>\n",
      "  <script>\n",
      "   (function(t){ (t.events = t.events || {})[\"csm_head_pre_title\"] = new Date().getTime(); })(IMDbTimer);\n",
      "  </script>\n",
      "  <title>\n",
      "   Released between\n"
     ]
    }
   ],
   "source": [
    "print(soup.prettify()[:500])"
   ]
  },
  {
   "cell_type": "markdown",
   "metadata": {},
   "source": [
    "## Finding the right key to scrap the data & Extracting the right information"
   ]
  },
  {
   "cell_type": "markdown",
   "metadata": {},
   "source": [
    "Find the key and put the key into the `.find()` Put all the exploring the right key at this cell. (please change this markdown with your explanation)"
   ]
  },
  {
   "cell_type": "code",
   "execution_count": 505,
   "metadata": {
    "ExecuteTime": {
     "end_time": "2020-01-13T05:12:23.878904Z",
     "start_time": "2020-01-13T05:12:23.854974Z"
    },
    "scrolled": true
   },
   "outputs": [
    {
     "name": "stdout",
     "output_type": "stream",
     "text": [
      "div class=\"lister-list\">\n",
      " <div class=\"lister-item mode-advanced\">\n",
      "  <div class=\"lister-top-right\">\n",
      "   <div class=\"ribbonize\" data-caller=\"filmosearch\" data-tconst=\"tt8179402\">\n",
      "   </div>\n",
      "  </div>\n",
      "  <div class=\"lister-item-image float-left\">\n",
      "   <a href=\"/title/tt8179402/\">\n",
      "    <img alt=\"Fate: The Winx Saga\" class=\"loadlate\" data-tconst=\"tt8179402\" height=\"98\" loadlate=\"https://m.media-amazon.com/images/M/MV5BMzEyYzBhODYtZjZlOC00MTM4LWIxMjQtMTRhZjA5ODM4ZWI2XkEyXkFqcGdeQXVyODQwODA1MjY@._V1_UY98_CR5,0,67,98_AL_.jpg\" src=\"https://m.media-amazon.com/images/S/sash/4FyxwxECzL-U1J8.png\" width=\"67\"/>\n",
      "   </a>\n",
      "  </div>\n",
      "  <div class=\"lister-item-content\">\n",
      "   <h3 class=\"lister-item-header\">\n",
      "    <span class=\"lister-item-index unbold text-primary\">\n",
      "     1.\n",
      "    </span>\n",
      "    <a href=\"/title/tt8179402/\">\n",
      "     Fate: The Winx Saga\n",
      "    </a>\n",
      "    <span class=\"lister-item-year text-muted unbold\">\n",
      "     (2021– )\n",
      "    </span>\n",
      "   </h3>\n",
      "   <p class=\"text-muted\">\n",
      "    <span class=\"certificate\">\n",
      "     16+\n",
      "    </span>\n",
      "    <span class=\"ghost\">\n",
      "     |\n",
      "    </span>\n",
      "    <span class=\"genre\">\n",
      "     Action, Adventure, Drama\n",
      "    </span>\n",
      "   </p>\n",
      "   <div class=\"ratings-bar\">\n",
      "    <div class=\"inline-block ratings-imdb-rating\" data-value=\"6.9\" name=\"ir\">\n",
      "     <span class=\"global-sprite rating-star imdb-rating\">\n",
      "     </span>\n",
      "     <strong>\n",
      "      6.9\n",
      "     </strong>\n",
      "    </div>\n",
      "    <div class=\"inline-block ratings-user-rating\">\n",
      "     <span class=\"userRatingValue\" data-tconst=\"tt8179402\" id=\"urv_tt8179402\">\n",
      "      <span class=\"global-sprite rating-star no-rating\">\n",
      "      </span>\n",
      "      <span class=\"rate\" data-no-rating=\"Rate this\" data-value=\"0\" name=\"ur\">\n",
      "       Rate this\n",
      "      </span>\n",
      "     </span>\n",
      "     <div class=\"starBarWidget\" id=\"sb_tt8179402\">\n",
      "      <div class=\"rating rating-list\" data-csrf-token=\"\" data-ga-identifier=\"\" data-starbar-class=\"rating-list\" data-user=\"\" id=\"tt8179402|imdb|6.9|6.9|adv_li_tt||advsearch|title\" itemprop=\"aggregateRating\" itemscope=\"\" itemtype=\"http://schema.org/AggregateRating\" title=\"Users rated this 6.9/10 (44,690 votes) - click stars to rate\">\n",
      "       <meta content=\"6.9\" itemprop=\"ratingValue\"/>\n",
      "       <meta content=\"10\" itemprop=\"bestRating\"/>\n",
      "       <meta content=\"44690\" itemprop=\"ratingCount\"/>\n",
      "       <span class=\"rating-bg\">\n",
      "       </span>\n",
      "       <span class=\"rating-imdb\" style=\"width: 96.6px\">\n",
      "       </span>\n",
      "       <span class=\"rating-stars\">\n",
      "        <a href=\"/register/login?why=vote\" rel=\"nofollow\" title=\"Register or login to rate this title\">\n",
      "         <span>\n",
      "          1\n",
      "         </span>\n",
      "        </a>\n",
      "        <a href=\"/register/login?why=vote\" rel=\"nofollow\" title=\"Register or login to rate this title\">\n",
      "         <span>\n",
      "          2\n",
      "         </span>\n",
      "        </a>\n",
      "        <a href=\"/register/login?why=vote\" rel=\"nofollow\" title=\"Register or login to rate this title\">\n",
      "         <span>\n",
      "          3\n",
      "         </span>\n",
      "        </a>\n",
      "        <a href=\"/register/login?why=vote\" rel=\"nofollow\" title=\"Register or login to rate this title\">\n",
      "         <span>\n",
      "          4\n",
      "         </span>\n",
      "        </a>\n",
      "        <a href=\"/register/login?why=vote\" rel=\"nofollow\" title=\"Register or login to rate this title\">\n",
      "         <span>\n",
      "          5\n",
      "         </span>\n",
      "        </a>\n",
      "        <a href=\"/register/login?why=vote\" rel=\"nofollow\" title=\"Register or login to rate this title\">\n",
      "         <span>\n",
      "          6\n",
      "         </span>\n",
      "        </a>\n",
      "        <a href=\"/register/login?why=vote\" rel=\"nofollow\" title=\"Register or login to rate this title\">\n",
      "         <span>\n",
      "          7\n",
      "         </span>\n",
      "        </a>\n",
      "        <a href=\"/register/login?why=vote\" rel=\"nofollow\" title=\"Register or login to rate this title\">\n",
      "         <span>\n",
      "          8\n",
      "         </span>\n",
      "        </a>\n",
      "        <a href=\"/register/login?why=vote\" rel=\"nofollow\" title=\"Register or login to rate this title\">\n",
      "         <span>\n",
      "          9\n",
      "         </span>\n",
      "        </a>\n",
      "        <a href=\"/register/login?why=vote\" rel=\"nofollow\" title=\"Register or login to rate this title\">\n",
      "         <span>\n",
      "          10\n",
      "         </span>\n",
      "        </a>\n",
      "       </span>\n",
      "       <span class=\"rating-rating\">\n",
      "        <span class=\"value\">\n",
      "         6.9\n",
      "        </span>\n",
      "        <span class=\"grey\">\n",
      "         /\n",
      "        </span>\n",
      "        <span class=\"grey\">\n",
      "         10\n",
      "        </span>\n",
      "       </span>\n",
      "       <span class=\"rating-cancel\">\n",
      "        <a href=\"/title/tt8179402/vote\" rel=\"nofollow\" title=\"Delete\">\n",
      "         <span>\n",
      "          X\n",
      "         </span>\n",
      "        </a>\n",
      "       </span>\n",
      "      </div>\n",
      "     </div>\n",
      "    </div>\n",
      "   </div>\n",
      "   <p class=\"text-muted\">\n",
      "    A live-action adaptation of Nickelodeon's\n",
      "    <a href=\"/title/tt0421482\">\n",
      "     Winx Club\n",
      "    </a>\n",
      "    (2004). It follows Bloom as she adjusts to life in the Otherworld, where she must learn to control her dangerous magical powers.\n",
      "   </p>\n",
      "   <p class=\"\">\n",
      "    Stars:\n",
      "    <a href=\"/name/nm10082934/\">\n",
      "     Sadie Soverall\n",
      "    </a>\n",
      "    ,\n",
      "    <a href=\"/name/nm6792464/\">\n",
      "     Abigail Cowen\n",
      "    </a>\n",
      "    ,\n",
      "    <a href=\"/name/nm7188414/\">\n",
      "     Freddie Thorp\n",
      "    </a>\n",
      "    ,\n",
      "    <a href=\"/name/nm1872518/\">\n",
      "     Hannah van der Westhuys\n"
     ]
    }
   ],
   "source": [
    "table = soup.find('div', attrs={'class':'lister-list'})\n",
    "print(table.prettify()[1:5000])"
   ]
  },
  {
   "cell_type": "code",
   "execution_count": 507,
   "metadata": {
    "scrolled": true
   },
   "outputs": [
    {
     "data": {
      "text/plain": [
       "[<a href=\"/title/tt8179402/\"> <img alt=\"Fate: The Winx Saga\" class=\"loadlate\" data-tconst=\"tt8179402\" height=\"98\" loadlate=\"https://m.media-amazon.com/images/M/MV5BMzEyYzBhODYtZjZlOC00MTM4LWIxMjQtMTRhZjA5ODM4ZWI2XkEyXkFqcGdeQXVyODQwODA1MjY@._V1_UY98_CR5,0,67,98_AL_.jpg\" src=\"https://m.media-amazon.com/images/S/sash/4FyxwxECzL-U1J8.png\" width=\"67\"/>\n",
       " </a>,\n",
       " <a href=\"/title/tt8179402/\">Fate: The Winx Saga</a>]"
      ]
     },
     "execution_count": 507,
     "metadata": {},
     "output_type": "execute_result"
    }
   ],
   "source": [
    "table.find_all(\"a\", attrs = {\"href\":\"/title/tt8179402/\"})"
   ]
  },
  {
   "cell_type": "markdown",
   "metadata": {},
   "source": [
    "Finding row length."
   ]
  },
  {
   "cell_type": "code",
   "execution_count": 508,
   "metadata": {},
   "outputs": [
    {
     "name": "stdout",
     "output_type": "stream",
     "text": [
      "50\n"
     ]
    }
   ],
   "source": [
    "table1 = table.find_all('div', attrs={'class':'lister-item mode-advanced'})\n",
    "row_length = len(table1)\n",
    "print(row_length)"
   ]
  },
  {
   "cell_type": "markdown",
   "metadata": {},
   "source": [
    "Do the scrapping process here (please change this markdown with your explanation)"
   ]
  },
  {
   "cell_type": "code",
   "execution_count": 512,
   "metadata": {},
   "outputs": [
    {
     "data": {
      "text/plain": [
       "'65'"
      ]
     },
     "execution_count": 512,
     "metadata": {},
     "output_type": "execute_result"
    }
   ],
   "source": [
    "    imdb_rating = table.find_all('div', attrs={'class':\"ratings-bar\"})\n",
    "    \n",
    "    len(imdb_rating)\n",
    "    \n",
    "    movie_rating = imdb_rating[4].find('div', attrs={'class':\"inline-block ratings-metascore\"}) \n",
    "    \n",
    "    if movie_rating is None:\n",
    "        print(\"kosong\")\n",
    "    \n",
    "    movie_rating.find('span', attrs={'class': \"metascore\"}).text.strip()\n",
    "    "
   ]
  },
  {
   "cell_type": "code",
   "execution_count": 525,
   "metadata": {
    "ExecuteTime": {
     "end_time": "2020-01-13T05:12:24.008256Z",
     "start_time": "2020-01-13T05:12:23.980358Z"
    },
    "scrolled": true
   },
   "outputs": [
    {
     "data": {
      "text/plain": [
       "[('Fate: The Winx Saga', '6.9', 0, '44690'),\n",
       " ('The White Lotus', '7.6', 0, '67867'),\n",
       " ('Only Murders in the Building', '8.1', 0, '96478'),\n",
       " ('Abbott Elementary', '8.2', 0, '13805'),\n",
       " ('The Black Phone', '7.0', '65', '113571'),\n",
       " ('Resident Alien', '8.1', 0, '39270'),\n",
       " ('American Horror Stories', '6.2', 0, '20810'),\n",
       " ('1883', '8.8', 0, '63250'),\n",
       " ('Reservation Dogs', '8.1', 0, '14659'),\n",
       " ('Spider-Man: No Way Home', '8.3', '71', '730735'),\n",
       " ('La scuola cattolica', '5.7', 0, '1817'),\n",
       " ('Dune: Part One', '8.0', '74', '614681'),\n",
       " ('Licorice Pizza', '7.2', '90', '105742'),\n",
       " ('Forsvinningen på Lørenskog', '6.1', 0, '1091'),\n",
       " ('Dopesick', '8.6', 0, '54607'),\n",
       " (\"NCIS: Hawai'i\", '6.3', 0, '5545'),\n",
       " ('Mona Lisa and the Blood Moon', '6.2', '69', '1055'),\n",
       " ('The Little Things', '6.3', '54', '99678'),\n",
       " ('Bloodlands', '6.6', 0, '5084'),\n",
       " ('Arcane: League of Legends', '9.0', 0, '197971'),\n",
       " ('Yellowjackets', '7.9', 0, '44917'),\n",
       " ('The Wheel of Time', '7.1', 0, '102470'),\n",
       " ('Sing 2', '7.4', '49', '65847'),\n",
       " ('No Time to Die', '7.3', '68', '390393'),\n",
       " ('The Matrix Resurrections', '5.7', '63', '243337'),\n",
       " ('Ojing-eo geim', '8.0', 0, '436252'),\n",
       " ('Snabba cash', '7.6', 0, '9347'),\n",
       " ('House of Gucci', '6.6', '59', '130062'),\n",
       " ('Last Night in Soho', '7.1', '65', '130519'),\n",
       " ('Hacks', '8.2', 0, '28765'),\n",
       " ('Ghosts', '7.8', 0, '14814'),\n",
       " ('Law & Order: Organized Crime', '7.7', 0, '7091'),\n",
       " ('Ghostbusters: Afterlife', '7.1', '45', '176421'),\n",
       " ('La Brea', '5.6', 0, '10268'),\n",
       " ('Pleasure', '6.3', '75', '15072'),\n",
       " ('Gekijouban Jujutsu Kaisen 0', '7.9', '71', '14981'),\n",
       " ('Eternals', '6.3', '52', '333592'),\n",
       " ('Mare of Easttown', '8.4', 0, '152191'),\n",
       " ('Midnight Mass', '7.7', 0, '111494'),\n",
       " ('The Book of Boba Fett', '7.3', 0, '144501'),\n",
       " ('Home Economics', '6.7', 0, '4001'),\n",
       " ('Shadow and Bone', '7.6', 0, '83028'),\n",
       " (\"Don't Look Up\", '7.2', '49', '526664'),\n",
       " ('Loki', '8.2', 0, '306599'),\n",
       " ('FBI: International', '6.3', 0, '3892'),\n",
       " ('Spencer', '6.6', '76', '66091'),\n",
       " ('Sex/Life', '5.4', 0, '21154'),\n",
       " ('The Last Duel', '7.4', '67', '152195'),\n",
       " ('Free Guy', '7.1', '62', '361330'),\n",
       " ('Old', '5.8', '55', '116947')]"
      ]
     },
     "execution_count": 525,
     "metadata": {},
     "output_type": "execute_result"
    }
   ],
   "source": [
    "temp = [] #initiating a tuple\n",
    "\n",
    "#mencari semua 'div' pada ratings bar\n",
    "imdb_rating = table.find_all('div', attrs={'class':\"ratings-bar\"})\n",
    "\n",
    "for i in range(0, row_length):\n",
    "    \n",
    "    #get movie_title\n",
    "    movie_title = table.find_all(\"h3\", attrs = {\"class\":\"lister-item-header\"})[i]\n",
    "    movie_title = movie_title.find('a').text\n",
    "    movie_title = movie_title.strip()\n",
    "\n",
    "    ## get movie rating\n",
    "    movie_rating = imdb_rating[i].find('div', attrs ={'class':\"inline-block ratings-imdb-rating\"}).text\n",
    "    movie_rating = movie_rating.strip()\n",
    "    \n",
    "    ## get metascore\n",
    "    movie_metascore = imdb_rating[i].find('div', attrs={'class':\"inline-block ratings-metascore\"})\n",
    "    meta_score = 0\n",
    "    \n",
    "    if movie_metascore is not None:\n",
    "        meta_score = movie_metascore.find('span', attrs={'class': \"metascore\"}).text.strip()\n",
    "    \n",
    "    #get votes\n",
    "    votes = table.find_all('meta', attrs = {'itemprop':'ratingCount'})[i]['content']\n",
    "    \n",
    "    #scrapping process\n",
    "    temp.append((movie_title,movie_rating,meta_score,votes))\n",
    "temp "
   ]
  },
  {
   "cell_type": "markdown",
   "metadata": {},
   "source": [
    "## Creating data frame & Data wrangling"
   ]
  },
  {
   "cell_type": "markdown",
   "metadata": {},
   "source": [
    "Put the array into dataframe"
   ]
  },
  {
   "cell_type": "code",
   "execution_count": 622,
   "metadata": {
    "ExecuteTime": {
     "end_time": "2020-01-13T05:12:41.517372Z",
     "start_time": "2020-01-13T05:12:29.130015Z"
    }
   },
   "outputs": [
    {
     "data": {
      "text/html": [
       "<div>\n",
       "<style scoped>\n",
       "    .dataframe tbody tr th:only-of-type {\n",
       "        vertical-align: middle;\n",
       "    }\n",
       "\n",
       "    .dataframe tbody tr th {\n",
       "        vertical-align: top;\n",
       "    }\n",
       "\n",
       "    .dataframe thead th {\n",
       "        text-align: right;\n",
       "    }\n",
       "</style>\n",
       "<table border=\"1\" class=\"dataframe\">\n",
       "  <thead>\n",
       "    <tr style=\"text-align: right;\">\n",
       "      <th></th>\n",
       "      <th>movie_title</th>\n",
       "      <th>movie_rating</th>\n",
       "      <th>meta_score</th>\n",
       "      <th>votes</th>\n",
       "    </tr>\n",
       "  </thead>\n",
       "  <tbody>\n",
       "    <tr>\n",
       "      <th>0</th>\n",
       "      <td>Fate: The Winx Saga</td>\n",
       "      <td>6.9</td>\n",
       "      <td>0</td>\n",
       "      <td>44690</td>\n",
       "    </tr>\n",
       "    <tr>\n",
       "      <th>1</th>\n",
       "      <td>The White Lotus</td>\n",
       "      <td>7.6</td>\n",
       "      <td>0</td>\n",
       "      <td>67867</td>\n",
       "    </tr>\n",
       "    <tr>\n",
       "      <th>2</th>\n",
       "      <td>Only Murders in the Building</td>\n",
       "      <td>8.1</td>\n",
       "      <td>0</td>\n",
       "      <td>96478</td>\n",
       "    </tr>\n",
       "    <tr>\n",
       "      <th>3</th>\n",
       "      <td>Abbott Elementary</td>\n",
       "      <td>8.2</td>\n",
       "      <td>0</td>\n",
       "      <td>13805</td>\n",
       "    </tr>\n",
       "    <tr>\n",
       "      <th>4</th>\n",
       "      <td>The Black Phone</td>\n",
       "      <td>7.0</td>\n",
       "      <td>65</td>\n",
       "      <td>113571</td>\n",
       "    </tr>\n",
       "  </tbody>\n",
       "</table>\n",
       "</div>"
      ],
      "text/plain": [
       "                    movie_title movie_rating meta_score   votes\n",
       "0           Fate: The Winx Saga          6.9          0   44690\n",
       "1               The White Lotus          7.6          0   67867\n",
       "2  Only Murders in the Building          8.1          0   96478\n",
       "3             Abbott Elementary          8.2          0   13805\n",
       "4               The Black Phone          7.0         65  113571"
      ]
     },
     "execution_count": 622,
     "metadata": {},
     "output_type": "execute_result"
    }
   ],
   "source": [
    "import pandas as pd\n",
    "\n",
    "imdb = pd.DataFrame(temp, columns = ('movie_title','movie_rating','meta_score','votes'))\n",
    "imdb.head()"
   ]
  },
  {
   "cell_type": "markdown",
   "metadata": {},
   "source": [
    "Do the data cleaning here (please change this markdown with your explanation of what you do for data wrangling)"
   ]
  },
  {
   "cell_type": "code",
   "execution_count": 623,
   "metadata": {
    "scrolled": true
   },
   "outputs": [
    {
     "data": {
      "text/plain": [
       "movie_title     object\n",
       "movie_rating    object\n",
       "meta_score      object\n",
       "votes           object\n",
       "dtype: object"
      ]
     },
     "execution_count": 623,
     "metadata": {},
     "output_type": "execute_result"
    }
   ],
   "source": [
    "# Checking Tipe Data\n",
    "\n",
    "imdb.dtypes"
   ]
  },
  {
   "cell_type": "code",
   "execution_count": 624,
   "metadata": {
    "ExecuteTime": {
     "end_time": "2020-01-13T05:12:59.165559Z",
     "start_time": "2020-01-13T05:12:58.910012Z"
    },
    "scrolled": false
   },
   "outputs": [
    {
     "data": {
      "text/plain": [
       "movie_title     category\n",
       "movie_rating     float64\n",
       "meta_score         int64\n",
       "votes              int64\n",
       "dtype: object"
      ]
     },
     "execution_count": 624,
     "metadata": {},
     "output_type": "execute_result"
    }
   ],
   "source": [
    "# Mengubah Tipe Data\n",
    "\n",
    "imdb['movie_title'] = imdb['movie_title'].astype('category')\n",
    "imdb['movie_rating'] = imdb['movie_rating'].astype('float64')\n",
    "imdb['meta_score'] = imdb['meta_score'].astype('int64')\n",
    "imdb['votes'] = imdb['votes'].astype('int64')\n",
    "\n",
    "imdb.dtypes"
   ]
  },
  {
   "cell_type": "code",
   "execution_count": 625,
   "metadata": {
    "scrolled": false
   },
   "outputs": [],
   "source": [
    "# set movie_title sebagai dataframe index\n",
    "imdb = imdb.set_index('movie_title')"
   ]
  },
  {
   "cell_type": "code",
   "execution_count": 626,
   "metadata": {},
   "outputs": [
    {
     "data": {
      "text/html": [
       "<div>\n",
       "<style scoped>\n",
       "    .dataframe tbody tr th:only-of-type {\n",
       "        vertical-align: middle;\n",
       "    }\n",
       "\n",
       "    .dataframe tbody tr th {\n",
       "        vertical-align: top;\n",
       "    }\n",
       "\n",
       "    .dataframe thead th {\n",
       "        text-align: right;\n",
       "    }\n",
       "</style>\n",
       "<table border=\"1\" class=\"dataframe\">\n",
       "  <thead>\n",
       "    <tr style=\"text-align: right;\">\n",
       "      <th></th>\n",
       "      <th>movie_rating</th>\n",
       "      <th>meta_score</th>\n",
       "      <th>votes</th>\n",
       "    </tr>\n",
       "    <tr>\n",
       "      <th>movie_title</th>\n",
       "      <th></th>\n",
       "      <th></th>\n",
       "      <th></th>\n",
       "    </tr>\n",
       "  </thead>\n",
       "  <tbody>\n",
       "    <tr>\n",
       "      <th>Fate: The Winx Saga</th>\n",
       "      <td>6.9</td>\n",
       "      <td>0</td>\n",
       "      <td>44690</td>\n",
       "    </tr>\n",
       "    <tr>\n",
       "      <th>The White Lotus</th>\n",
       "      <td>7.6</td>\n",
       "      <td>0</td>\n",
       "      <td>67867</td>\n",
       "    </tr>\n",
       "    <tr>\n",
       "      <th>Only Murders in the Building</th>\n",
       "      <td>8.1</td>\n",
       "      <td>0</td>\n",
       "      <td>96478</td>\n",
       "    </tr>\n",
       "    <tr>\n",
       "      <th>Abbott Elementary</th>\n",
       "      <td>8.2</td>\n",
       "      <td>0</td>\n",
       "      <td>13805</td>\n",
       "    </tr>\n",
       "    <tr>\n",
       "      <th>The Black Phone</th>\n",
       "      <td>7.0</td>\n",
       "      <td>65</td>\n",
       "      <td>113571</td>\n",
       "    </tr>\n",
       "  </tbody>\n",
       "</table>\n",
       "</div>"
      ],
      "text/plain": [
       "                              movie_rating  meta_score   votes\n",
       "movie_title                                                   \n",
       "Fate: The Winx Saga                    6.9           0   44690\n",
       "The White Lotus                        7.6           0   67867\n",
       "Only Murders in the Building           8.1           0   96478\n",
       "Abbott Elementary                      8.2           0   13805\n",
       "The Black Phone                        7.0          65  113571"
      ]
     },
     "execution_count": 626,
     "metadata": {},
     "output_type": "execute_result"
    }
   ],
   "source": [
    "imdb.head()"
   ]
  },
  {
   "cell_type": "markdown",
   "metadata": {},
   "source": [
    "### Implementing your webscrapping to the flask dashboard\n",
    "\n",
    "- Copy paste all of your web scrapping process to the desired position on the `app.py`\n",
    "- Changing the title of the dasboard at `index.html`"
   ]
  },
  {
   "cell_type": "markdown",
   "metadata": {},
   "source": [
    "## Finishing This Notebook with Your Analysis and Conclusion\n",
    "\n",
    "First you can do start with making the data visualisation. "
   ]
  },
  {
   "cell_type": "code",
   "execution_count": 596,
   "metadata": {
    "ExecuteTime": {
     "end_time": "2020-01-13T05:20:56.208237Z",
     "start_time": "2020-01-13T05:20:56.076043Z"
    },
    "scrolled": true
   },
   "outputs": [
    {
     "data": {
      "text/html": [
       "<div>\n",
       "<style scoped>\n",
       "    .dataframe tbody tr th:only-of-type {\n",
       "        vertical-align: middle;\n",
       "    }\n",
       "\n",
       "    .dataframe tbody tr th {\n",
       "        vertical-align: top;\n",
       "    }\n",
       "\n",
       "    .dataframe thead th {\n",
       "        text-align: right;\n",
       "    }\n",
       "</style>\n",
       "<table border=\"1\" class=\"dataframe\">\n",
       "  <thead>\n",
       "    <tr style=\"text-align: right;\">\n",
       "      <th></th>\n",
       "      <th>movie_title</th>\n",
       "      <th>movie_rating</th>\n",
       "    </tr>\n",
       "  </thead>\n",
       "  <tbody>\n",
       "    <tr>\n",
       "      <th>19</th>\n",
       "      <td>Arcane: League of Legends</td>\n",
       "      <td>9.0</td>\n",
       "    </tr>\n",
       "    <tr>\n",
       "      <th>7</th>\n",
       "      <td>1883</td>\n",
       "      <td>8.8</td>\n",
       "    </tr>\n",
       "    <tr>\n",
       "      <th>14</th>\n",
       "      <td>Dopesick</td>\n",
       "      <td>8.6</td>\n",
       "    </tr>\n",
       "    <tr>\n",
       "      <th>37</th>\n",
       "      <td>Mare of Easttown</td>\n",
       "      <td>8.4</td>\n",
       "    </tr>\n",
       "    <tr>\n",
       "      <th>9</th>\n",
       "      <td>Spider-Man: No Way Home</td>\n",
       "      <td>8.3</td>\n",
       "    </tr>\n",
       "    <tr>\n",
       "      <th>3</th>\n",
       "      <td>Abbott Elementary</td>\n",
       "      <td>8.2</td>\n",
       "    </tr>\n",
       "    <tr>\n",
       "      <th>43</th>\n",
       "      <td>Loki</td>\n",
       "      <td>8.2</td>\n",
       "    </tr>\n",
       "  </tbody>\n",
       "</table>\n",
       "</div>"
      ],
      "text/plain": [
       "                  movie_title  movie_rating\n",
       "19  Arcane: League of Legends           9.0\n",
       "7                        1883           8.8\n",
       "14                   Dopesick           8.6\n",
       "37           Mare of Easttown           8.4\n",
       "9     Spider-Man: No Way Home           8.3\n",
       "3           Abbott Elementary           8.2\n",
       "43                       Loki           8.2"
      ]
     },
     "execution_count": 596,
     "metadata": {},
     "output_type": "execute_result"
    }
   ],
   "source": [
    "#Urutan 7 film terpopuler berdasarkan rating film\n",
    "\n",
    "based_movie_rating = imdb.reset_index().sort_values('movie_rating', ascending = False)\\\n",
    "                [['movie_title','movie_rating']]\n",
    "based_movie_rating.head(7)"
   ]
  },
  {
   "cell_type": "code",
   "execution_count": 599,
   "metadata": {},
   "outputs": [
    {
     "data": {
      "text/plain": [
       "<AxesSubplot:xlabel='movie_title'>"
      ]
     },
     "execution_count": 599,
     "metadata": {},
     "output_type": "execute_result"
    },
    {
     "data": {
      "image/png": "[encoded data removed]",
      "text/plain": [
       "<Figure size 640x480 with 1 Axes>"
      ]
     },
     "metadata": {},
     "output_type": "display_data"
    }
   ],
   "source": [
    "#Visualisasi 7 film terpopuler menggunakan diagram batang berdasarkan rating film\n",
    "\n",
    "based_movie_rating = imdb.sort_values(by = \"movie_rating\", ascending = False).head(7)\n",
    "based_movie_rating.reset_index().plot.bar(x='movie_title', y='movie_rating')"
   ]
  },
  {
   "cell_type": "markdown",
   "metadata": {},
   "source": [
    "- Berdasarkan `movie_rating`; Arcane: League of Legends, 1883, dan Dopesice menjadi 3 film terpopuler tahun 2021"
   ]
  },
  {
   "cell_type": "code",
   "execution_count": 608,
   "metadata": {
    "scrolled": true
   },
   "outputs": [
    {
     "data": {
      "text/html": [
       "<div>\n",
       "<style scoped>\n",
       "    .dataframe tbody tr th:only-of-type {\n",
       "        vertical-align: middle;\n",
       "    }\n",
       "\n",
       "    .dataframe tbody tr th {\n",
       "        vertical-align: top;\n",
       "    }\n",
       "\n",
       "    .dataframe thead th {\n",
       "        text-align: right;\n",
       "    }\n",
       "</style>\n",
       "<table border=\"1\" class=\"dataframe\">\n",
       "  <thead>\n",
       "    <tr style=\"text-align: right;\">\n",
       "      <th></th>\n",
       "      <th>movie_title</th>\n",
       "      <th>votes</th>\n",
       "    </tr>\n",
       "  </thead>\n",
       "  <tbody>\n",
       "    <tr>\n",
       "      <th>9</th>\n",
       "      <td>Spider-Man: No Way Home</td>\n",
       "      <td>730735</td>\n",
       "    </tr>\n",
       "    <tr>\n",
       "      <th>11</th>\n",
       "      <td>Dune: Part One</td>\n",
       "      <td>614681</td>\n",
       "    </tr>\n",
       "    <tr>\n",
       "      <th>42</th>\n",
       "      <td>Don't Look Up</td>\n",
       "      <td>526664</td>\n",
       "    </tr>\n",
       "    <tr>\n",
       "      <th>25</th>\n",
       "      <td>Ojing-eo geim</td>\n",
       "      <td>436252</td>\n",
       "    </tr>\n",
       "    <tr>\n",
       "      <th>23</th>\n",
       "      <td>No Time to Die</td>\n",
       "      <td>390393</td>\n",
       "    </tr>\n",
       "    <tr>\n",
       "      <th>48</th>\n",
       "      <td>Free Guy</td>\n",
       "      <td>361330</td>\n",
       "    </tr>\n",
       "    <tr>\n",
       "      <th>36</th>\n",
       "      <td>Eternals</td>\n",
       "      <td>333592</td>\n",
       "    </tr>\n",
       "  </tbody>\n",
       "</table>\n",
       "</div>"
      ],
      "text/plain": [
       "                movie_title   votes\n",
       "9   Spider-Man: No Way Home  730735\n",
       "11           Dune: Part One  614681\n",
       "42            Don't Look Up  526664\n",
       "25            Ojing-eo geim  436252\n",
       "23           No Time to Die  390393\n",
       "48                 Free Guy  361330\n",
       "36                 Eternals  333592"
      ]
     },
     "execution_count": 608,
     "metadata": {},
     "output_type": "execute_result"
    }
   ],
   "source": [
    "#Urutan 7 film terpopuler berdasarkan Votes\n",
    "based_votes = imdb.reset_index().sort_values('votes', ascending = False)\\\n",
    "                [['movie_title','votes']]\n",
    "based_votes.head(7)"
   ]
  },
  {
   "cell_type": "code",
   "execution_count": 597,
   "metadata": {
    "scrolled": false
   },
   "outputs": [
    {
     "data": {
      "text/plain": [
       "<AxesSubplot:ylabel='movie_title'>"
      ]
     },
     "execution_count": 597,
     "metadata": {},
     "output_type": "execute_result"
    },
    {
     "data": {
      "image/png": "[encoded data removed]",
      "text/plain": [
       "<Figure size 640x480 with 1 Axes>"
      ]
     },
     "metadata": {},
     "output_type": "display_data"
    }
   ],
   "source": [
    "# Visualisasi 7 film terpopuler menggunakan diagram batang berdasarkan votes terbanyak\n",
    "\n",
    "based_votes = imdb.sort_values(by = \"votes\", ascending = False).head(7)\n",
    "based_votes.reset_index().plot.barh(x='movie_title', y='votes')"
   ]
  },
  {
   "cell_type": "markdown",
   "metadata": {},
   "source": [
    "- Berdasarkan `votes`; Spiderman: No Way Home, Dune: Part One, dan Don't Look Up menjadi 3 film dengan vote terbanyak pada tahun 2021"
   ]
  },
  {
   "cell_type": "code",
   "execution_count": 607,
   "metadata": {},
   "outputs": [
    {
     "data": {
      "text/html": [
       "<div>\n",
       "<style scoped>\n",
       "    .dataframe tbody tr th:only-of-type {\n",
       "        vertical-align: middle;\n",
       "    }\n",
       "\n",
       "    .dataframe tbody tr th {\n",
       "        vertical-align: top;\n",
       "    }\n",
       "\n",
       "    .dataframe thead th {\n",
       "        text-align: right;\n",
       "    }\n",
       "</style>\n",
       "<table border=\"1\" class=\"dataframe\">\n",
       "  <thead>\n",
       "    <tr style=\"text-align: right;\">\n",
       "      <th></th>\n",
       "      <th>movie_title</th>\n",
       "      <th>meta_score</th>\n",
       "    </tr>\n",
       "  </thead>\n",
       "  <tbody>\n",
       "    <tr>\n",
       "      <th>12</th>\n",
       "      <td>Licorice Pizza</td>\n",
       "      <td>90</td>\n",
       "    </tr>\n",
       "    <tr>\n",
       "      <th>45</th>\n",
       "      <td>Spencer</td>\n",
       "      <td>76</td>\n",
       "    </tr>\n",
       "    <tr>\n",
       "      <th>34</th>\n",
       "      <td>Pleasure</td>\n",
       "      <td>75</td>\n",
       "    </tr>\n",
       "    <tr>\n",
       "      <th>11</th>\n",
       "      <td>Dune: Part One</td>\n",
       "      <td>74</td>\n",
       "    </tr>\n",
       "    <tr>\n",
       "      <th>9</th>\n",
       "      <td>Spider-Man: No Way Home</td>\n",
       "      <td>71</td>\n",
       "    </tr>\n",
       "    <tr>\n",
       "      <th>35</th>\n",
       "      <td>Gekijouban Jujutsu Kaisen 0</td>\n",
       "      <td>71</td>\n",
       "    </tr>\n",
       "    <tr>\n",
       "      <th>16</th>\n",
       "      <td>Mona Lisa and the Blood Moon</td>\n",
       "      <td>69</td>\n",
       "    </tr>\n",
       "  </tbody>\n",
       "</table>\n",
       "</div>"
      ],
      "text/plain": [
       "                     movie_title  meta_score\n",
       "12                Licorice Pizza          90\n",
       "45                       Spencer          76\n",
       "34                      Pleasure          75\n",
       "11                Dune: Part One          74\n",
       "9        Spider-Man: No Way Home          71\n",
       "35   Gekijouban Jujutsu Kaisen 0          71\n",
       "16  Mona Lisa and the Blood Moon          69"
      ]
     },
     "execution_count": 607,
     "metadata": {},
     "output_type": "execute_result"
    }
   ],
   "source": [
    "#Urutan 7 film terpopuler berdasarkan Metascore\n",
    "Based_metascore = imdb.reset_index().sort_values('meta_score', ascending = False)\\\n",
    "                [['movie_title','meta_score']]\n",
    "Based_metascore.head(7)"
   ]
  },
  {
   "cell_type": "code",
   "execution_count": 609,
   "metadata": {},
   "outputs": [
    {
     "data": {
      "text/plain": [
       "<AxesSubplot:xlabel='movie_title'>"
      ]
     },
     "execution_count": 609,
     "metadata": {},
     "output_type": "execute_result"
    },
    {
     "data": {
      "image/png": "[encoded data removed]",
      "text/plain": [
       "<Figure size 640x480 with 1 Axes>"
      ]
     },
     "metadata": {},
     "output_type": "display_data"
    }
   ],
   "source": [
    "# Visualisasi 7 film terpopuler menggunakan diagram batang berdasarkan metascore\n",
    "\n",
    "based_metascore = imdb.sort_values(by = \"meta_score\", ascending = False).head(7)\n",
    "based_metascore.reset_index().plot.bar(x='movie_title', y='meta_score')"
   ]
  },
  {
   "cell_type": "markdown",
   "metadata": {},
   "source": [
    "\n",
    "(Put your analysis and conclusion here.)"
   ]
  },
  {
   "cell_type": "markdown",
   "metadata": {},
   "source": [
    "### Extra Challange\n",
    "\n",
    "This will be not included to the scoring. \n",
    "\n",
    "- You can create additional analysis from the data.\n",
    "- Implement it to the dashboard with at `app.py` dan `index.html`."
   ]
  }
 ],
 "metadata": {
  "kernelspec": {
   "display_name": "capstone_project",
   "language": "python",
   "name": "capstone_project"
  },
  "language_info": {
   "codemirror_mode": {
    "name": "ipython",
    "version": 3
   },
   "file_extension": ".py",
   "mimetype": "text/x-python",
   "name": "python",
   "nbconvert_exporter": "python",
   "pygments_lexer": "ipython3",
   "version": "3.8.13"
  }
 },
 "nbformat": 4,
 "nbformat_minor": 2
}
